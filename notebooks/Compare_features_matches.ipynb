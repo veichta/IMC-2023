{
 "cells": [
  {
   "cell_type": "code",
   "execution_count": null,
   "metadata": {},
   "outputs": [],
   "source": [
    "import os\n",
    "import pycolmap\n",
    "from pathlib import Path\n",
    "import numpy as np\n",
    "from collections import defaultdict\n",
    "import h5py\n",
    "import matplotlib.pyplot as plt\n",
    "import seaborn as sns\n",
    "from hloc.utils.io import list_h5_names, get_matches, get_keypoints\n",
    "from hloc.visualization import plot_images, plot_keypoints, plot_matches, read_image, add_text, cm_RdGn"
   ]
  },
  {
   "cell_type": "code",
   "execution_count": null,
   "metadata": {},
   "outputs": [],
   "source": [
    "DIR = \"../image-matching-challenge-2023\"\n",
    "MODE = \"train\"\n",
    "dataset = \"heritage\" # \"heritage\", \"haiper\", \"urban\"\n",
    "scene = \"cyprus\" # \"dioscuri\", \"cyprus\", \"wall\", \"kyiv-puppet-theater\", \"bike\", \"chairs\", \"fountain\"\n",
    "\n",
    "images = Path(f\"{DIR}/{MODE}/{dataset}/{scene}/images\")"
   ]
  },
  {
   "cell_type": "code",
   "execution_count": null,
   "metadata": {},
   "outputs": [],
   "source": [
    "runs = [\n",
    "    \"ALIKED-rot-pixsfm-sci\",\n",
    "    \"ALIKED+DISK-rot-pixsfm-sci\",\n",
    "    \"ALIKED+SIFT+SPv2-rot-pixsfm-sci\",\n",
    "    \"DISK+LG+sift+NN-rot-pixsfm-sci\",\n",
    "    \"DISK+SP+LG-rot-pixsfm-sci\",\n",
    "    \"DISK+SPv2+LG-rot-pixsfm-sci\",\n",
    "    \"DISK+SPv2-rot-pixsfm-sci\",\n",
    "    \"SP+LG+sift+NN-rot-pixsfm-sci\",\n",
    "    \"SPv2+LG+sift+NN-rot-pixsfm-sci\",\n",
    "    \"SIFT+SPv2-rot-pixsfm-sci\",\n",
    "]\n",
    "\n",
    "for r in runs:\n",
    "    scene_dir = Path(f\"../outputs/{r}/{dataset}/{scene}\")\n",
    "\n",
    "    features = scene_dir / \"features.h5\"\n",
    "    matches = scene_dir / \"matches.h5\"\n",
    "    image_names = sorted(list_h5_names(features))\n",
    "\n",
    "    plot_images(\n",
    "        [read_image(images / imname) for imname in image_names[:4]],\n",
    "        titles=image_names[:4],\n",
    "    )\n",
    "    plot_keypoints([get_keypoints(features, imname) for imname in image_names[:4]])\n",
    "    print(r)\n",
    "    plt.show()"
   ]
  },
  {
   "cell_type": "code",
   "execution_count": null,
   "metadata": {},
   "outputs": [],
   "source": [
    "# r = runs[-1]\n",
    "\n",
    "for r in runs:\n",
    "    print(r)\n",
    "    scene_dir = Path(f\"../outputs/{r}/{dataset}/{scene}\")\n",
    "\n",
    "    features = scene_dir / \"features.h5\"\n",
    "    matches = scene_dir / \"matches.h5\"\n",
    "    image_names = sorted(list_h5_names(features))\n",
    "    pairs = list_h5_names(matches)\n",
    "\n",
    "    # pair_id = 6\n",
    "\n",
    "    # name0, name1 = pairs[pair_id].split(\"/\")\n",
    "\n",
    "    name0 = \"DSC_6480.JPG\"\n",
    "    name1 = \"DSC_6488.JPG\"\n",
    "\n",
    "    plot_images([read_image(images / name0), read_image(images / name1)], titles=[name0, name1])\n",
    "\n",
    "    kpts0 = get_keypoints(features, name0)\n",
    "    kpts1 = get_keypoints(features, name1)\n",
    "\n",
    "    m, sc = get_matches(matches, name0, name1)\n",
    "\n",
    "    # plot_keypoints([kpts0, kpts1])\n",
    "    plot_matches(kpts0[m[:, 0]], kpts1[m[:, 1]], a=0.2)\n",
    "    plt.show()"
   ]
  },
  {
   "cell_type": "code",
   "execution_count": null,
   "metadata": {},
   "outputs": [],
   "source": []
  }
 ],
 "metadata": {
  "kernelspec": {
   "display_name": "megadepth",
   "language": "python",
   "name": "python3"
  },
  "language_info": {
   "codemirror_mode": {
    "name": "ipython",
    "version": 3
   },
   "file_extension": ".py",
   "mimetype": "text/x-python",
   "name": "python",
   "nbconvert_exporter": "python",
   "pygments_lexer": "ipython3",
   "version": "3.9.16"
  },
  "orig_nbformat": 4
 },
 "nbformat": 4,
 "nbformat_minor": 2
}
