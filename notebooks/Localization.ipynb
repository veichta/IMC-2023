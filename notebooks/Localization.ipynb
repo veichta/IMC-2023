{
 "cells": [
  {
   "cell_type": "code",
   "execution_count": null,
   "id": "5ac72728",
   "metadata": {},
   "outputs": [],
   "source": [
    "%load_ext autoreload\n",
    "%autoreload 2\n",
    "import sys\n",
    "sys.path.append(\"../\")\n",
    "sys.path.append(\"ext_deps/Hierarchical-Localization\")\n",
    "import pycolmap\n",
    "from pathlib import Path\n",
    "from imc2023.utils.utils import create_submission, get_data_from_dir, setup_logger\n",
    "from imc2023.utils.eval import eval\n",
    "from collections import defaultdict\n",
    "from hloc.utils.io import list_h5_names\n",
    "from hloc import localize_sfm, visualization\n",
    "import os\n",
    "import numpy as np\n",
    "import logging\n",
    "\n",
    "setup_logger()\n",
    "\n",
    "plt_logger = logging.getLogger(\"matplotlib\")\n",
    "plt_logger.setLevel(logging.WARNING)"
   ]
  },
  {
   "cell_type": "code",
   "execution_count": null,
   "id": "a9cdf2da",
   "metadata": {},
   "outputs": [],
   "source": [
    "dataset, scene = 'haiper', 'bike'\n",
    "data_dir = Path('../image-matching-challenge-2023')\n",
    "experiment_dir = Path(f'../outputs/alikedn16-rot-pixsfm-sci/{dataset}/{scene}')\n",
    "sfm_path = experiment_dir / 'sparse'\n",
    "features = experiment_dir / 'features.h5'\n",
    "matches = experiment_dir / 'matches.h5'\n",
    "pairs = experiment_dir / 'pairs.txt'\n",
    "\n",
    "image_dir = data_dir / 'train' / dataset / scene / 'images'\n",
    "\n",
    "reconstruction = pycolmap.Reconstruction(sfm_path)\n",
    "print(reconstruction.summary())\n",
    "\n",
    "data_dict = get_data_from_dir(data_dir, 'train')\n",
    "\n",
    "img_list = list_h5_names(features)\n",
    "\n",
    "# img_list = [x.replace(f'{dataset}/{scene}/', '') for x in data_dict[dataset][scene]]\n",
    "reg_image_names = [im.name for imid, im in reconstruction.images.items()]\n",
    "\n",
    "missing = list(set(img_list) - set(reg_image_names))\n",
    "queries = [(x, pycolmap.infer_camera_from_image(image_dir / x)) for x in missing]"
   ]
  },
  {
   "cell_type": "code",
   "execution_count": null,
   "id": "1b387c1f",
   "metadata": {},
   "outputs": [],
   "source": [
    "results = defaultdict(lambda: defaultdict(dict))\n",
    "for _, im in reconstruction.images.items():\n",
    "    img_name = os.path.join(dataset, scene, \"images\", im.name)\n",
    "    # problem: tvec is a reference! --> force copy\n",
    "    results[dataset][scene][img_name] = {\"R\": im.rotmat(), \"t\": np.array(im.tvec)}\n",
    "create_submission(results, data_dict, 'submission.csv')\n",
    "scores_dict = eval(submission_csv='submission.csv', data_dir=data_dir, verbose=False, return_dict=True)\n",
    "\n",
    "logging.info(scores_dict[dataset][scene])"
   ]
  },
  {
   "cell_type": "code",
   "execution_count": null,
   "id": "6ff3d9f3",
   "metadata": {},
   "outputs": [],
   "source": [
    "logs = localize_sfm.main(\n",
    "    reconstruction,\n",
    "    queries,\n",
    "    pairs,\n",
    "    features,\n",
    "    matches,\n",
    "    experiment_dir / 'loc.txt',\n",
    "    covisibility_clustering=True)  # not required with SuperPoint+SuperGlue\n",
    "\n"
   ]
  },
  {
   "cell_type": "code",
   "execution_count": null,
   "id": "5f726965",
   "metadata": {},
   "outputs": [],
   "source": [
    "# results = defaultdict(lambda: defaultdict(dict))\n",
    "for q, v in logs['loc'].items():\n",
    "    v = v['log_clusters'][v['best_cluster']]\n",
    "    print(q, v['PnP_ret']['num_inliers'], np.mean(list(v['PnP_ret']['inliers'])), len(v['db']))\n",
    "    im = pycolmap.Image(q, tvec=v['PnP_ret']['tvec'], qvec=v['PnP_ret']['qvec'])\n",
    "#     print(im.tvec, im.qvec)\n",
    "    img_name = os.path.join(dataset, scene, \"images\", q)\n",
    "    results[dataset][scene][img_name] = {\"R\": im.rotmat(), \"t\": np.array(im.tvec)}\n",
    "\n",
    "create_submission(results, data_dict, 'submission.csv')\n",
    "\n",
    "scores_dict = eval(submission_csv='submission.csv', data_dir=data_dir, verbose=False, return_dict=True)\n",
    "\n",
    "logging.info(scores_dict[dataset][scene])"
   ]
  },
  {
   "cell_type": "code",
   "execution_count": null,
   "id": "08d4cf86",
   "metadata": {
    "scrolled": false
   },
   "outputs": [],
   "source": [
    "visualization.visualize_loc(\n",
    "    experiment_dir / 'loc.txt', image_dir, reconstruction, n=2, top_k_db=3, seed=10)"
   ]
  },
  {
   "cell_type": "code",
   "execution_count": null,
   "id": "3b2d206d",
   "metadata": {},
   "outputs": [],
   "source": []
  },
  {
   "cell_type": "code",
   "execution_count": null,
   "id": "30441aba",
   "metadata": {},
   "outputs": [],
   "source": []
  },
  {
   "cell_type": "code",
   "execution_count": null,
   "id": "12a006b8",
   "metadata": {},
   "outputs": [],
   "source": []
  },
  {
   "cell_type": "code",
   "execution_count": null,
   "id": "836aaa63",
   "metadata": {},
   "outputs": [],
   "source": []
  }
 ],
 "metadata": {
  "kernelspec": {
   "display_name": "megadepth",
   "language": "python",
   "name": "python3"
  },
  "language_info": {
   "codemirror_mode": {
    "name": "ipython",
    "version": 3
   },
   "file_extension": ".py",
   "mimetype": "text/x-python",
   "name": "python",
   "nbconvert_exporter": "python",
   "pygments_lexer": "ipython3",
   "version": "3.9.16"
  }
 },
 "nbformat": 4,
 "nbformat_minor": 5
}
