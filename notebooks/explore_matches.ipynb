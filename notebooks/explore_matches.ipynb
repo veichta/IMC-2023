{
 "cells": [
  {
   "cell_type": "code",
   "execution_count": null,
   "id": "d01bab7f",
   "metadata": {},
   "outputs": [],
   "source": [
    "import os\n",
    "import pycolmap\n",
    "from pathlib import Path\n",
    "import numpy as np\n",
    "from collections import defaultdict\n",
    "import h5py\n",
    "import matplotlib.pyplot as plt\n",
    "import seaborn as sns\n",
    "from hloc.utils.io import list_h5_names, get_matches, get_keypoints\n",
    "from hloc.visualization import plot_images, plot_keypoints, plot_matches, read_image, add_text, cm_RdGn"
   ]
  },
  {
   "cell_type": "code",
   "execution_count": null,
   "id": "5e10697a",
   "metadata": {},
   "outputs": [],
   "source": [
    "DIR = \"../image-matching-challenge-2023\"\n",
    "MODE = \"train\"\n",
    "NAME = \"SPv2-rot-pixsfm-crop-sci\"\n",
    "dataset = \"urban\" # \"heritage\", \"haiper\", \"urban\"\n",
    "scene = \"kyiv-puppet-theater\" # \"dioscuri\", \"cyprus\", \"wall\", \"kyiv-puppet-theater\", \"bike\", \"chairs\", \"fountain\""
   ]
  },
  {
   "cell_type": "code",
   "execution_count": null,
   "id": "9ba16273",
   "metadata": {},
   "outputs": [],
   "source": [
    "scene_dir = Path(f\"../outputs/{NAME}/{dataset}/{scene}\")\n",
    "\n",
    "images = Path(f\"{DIR}/{MODE}/{dataset}/{scene}/images\")\n",
    "\n",
    "features = scene_dir / \"features.h5\"\n",
    "matches = scene_dir / \"matches.h5\""
   ]
  },
  {
   "cell_type": "code",
   "execution_count": null,
   "id": "4f08266a",
   "metadata": {},
   "outputs": [],
   "source": [
    "n_models = len(os.listdir(scene_dir / \"sparse\" / \"hloc\" / \"models\"))\n",
    "\n",
    "print(f\"Found {n_models} models\")"
   ]
  },
  {
   "cell_type": "code",
   "execution_count": null,
   "id": "90ad268d",
   "metadata": {},
   "outputs": [],
   "source": [
    "models = {}\n",
    "\n",
    "for i in range(n_models):\n",
    "    model_path = scene_dir / \"sparse\" / \"hloc\" / \"models\" / f\"{i}\"\n",
    "    if i == 0:\n",
    "        model_path = scene_dir / \"sparse\"\n",
    "    try:\n",
    "        rec = pycolmap.Reconstruction(model_path)\n",
    "        reg_images = [img.name for img in rec.images.values()]\n",
    "        models[i] = {\n",
    "            \"model\": rec,\n",
    "            \"images\": reg_images\n",
    "        }\n",
    "    except ValueError:\n",
    "        print(f\"Could not load model {i}\")\n",
    "\n",
    "all_registered = set().union(*[set(models[i][\"images\"]) for i in models])"
   ]
  },
  {
   "cell_type": "code",
   "execution_count": null,
   "id": "7a266f88",
   "metadata": {},
   "outputs": [],
   "source": [
    "print(models[0]['model'].summary())"
   ]
  },
  {
   "cell_type": "code",
   "execution_count": null,
   "id": "bd816c6f",
   "metadata": {},
   "outputs": [],
   "source": [
    "image_names = sorted(list_h5_names(features))\n",
    "pairs = sorted(list_h5_names(matches))"
   ]
  },
  {
   "cell_type": "code",
   "execution_count": null,
   "id": "2ab18792",
   "metadata": {},
   "outputs": [],
   "source": [
    "image_names[:4]"
   ]
  },
  {
   "cell_type": "code",
   "execution_count": null,
   "id": "91931db6",
   "metadata": {},
   "outputs": [],
   "source": [
    "plot_images([read_image(images / imname) for imname in image_names[:4]])\n",
    "plot_keypoints([get_keypoints(features, imname) for imname in image_names[:4]])"
   ]
  },
  {
   "cell_type": "code",
   "execution_count": null,
   "id": "b6d3d258",
   "metadata": {},
   "outputs": [],
   "source": [
    "match_matrix = -np.ones([len(image_names), len(image_names)])\n",
    "for pair in pairs:\n",
    "    name0, name1 = pair.split(\"/\")\n",
    "    idx0, idx1 = image_names.index(name0), image_names.index(name1)\n",
    "    m, sc = get_matches(matches, name0, name1)\n",
    "    match_matrix[idx0, idx1] = match_matrix[idx1, idx0] = m.shape[0]\n",
    "\n",
    "ax = sns.heatmap(match_matrix, linewidth=0.0, cmap=\"hot\", mask=match_matrix < 0)"
   ]
  },
  {
   "cell_type": "code",
   "execution_count": null,
   "id": "5e8f0d34",
   "metadata": {},
   "outputs": [],
   "source": [
    "reg_images = [img for img in image_names if img in models[0]['images']]\n",
    "unreg_images = [img for img in image_names if img not in reg_images]\n",
    "\n",
    "match_matrix = -np.ones([len(unreg_images), len(reg_images)])\n",
    "for pair in pairs:\n",
    "    name0, name1 = pair.split(\"/\")\n",
    "    m, sc = get_matches(matches, name0, name1)\n",
    "\n",
    "    if name0 in unreg_images and name1 in reg_images:\n",
    "        idx0, idx1 = unreg_images.index(name0), reg_images.index(name1)\n",
    "        match_matrix[idx0, idx1] = m.shape[0]\n",
    "\n",
    "    elif name1 in unreg_images and name0 in reg_images:\n",
    "        idx0, idx1 = unreg_images.index(name1), reg_images.index(name0)\n",
    "        match_matrix[idx0, idx1] = m.shape[0]\n",
    "\n",
    "\n",
    "ax = sns.heatmap(\n",
    "    match_matrix, \n",
    "    linewidth=0.0, \n",
    "    cmap=\"hot\",\n",
    "    yticklabels=unreg_images,\n",
    "    xticklabels=reg_images,\n",
    "    mask=match_matrix < 0\n",
    ")"
   ]
  },
  {
   "cell_type": "code",
   "execution_count": null,
   "id": "0b9f786f",
   "metadata": {},
   "outputs": [],
   "source": [
    "many_matches = np.where(match_matrix > 200)\n",
    "\n",
    "for i, j in zip(*many_matches):\n",
    "    name0, name1 = unreg_images[i], reg_images[j]\n",
    "    fig = plot_images(\n",
    "        [read_image(images / unreg_images[i]), read_image(images / reg_images[j])],\n",
    "        titles=[unreg_images[i], reg_images[j]]\n",
    "    )\n",
    "    kp0, kp1 = get_keypoints(features, name0), get_keypoints(features, name1)\n",
    "    m, sc = get_matches(matches, name0, name1)\n",
    "    plot_matches(kp0[m[:,0]], kp1[m[:,1]], a=0.1)\n",
    "    n_matches = m.shape[0]\n",
    "    [add_text(k, f'matches: {n_matches}, reg: {name in models[0][\"images\"]}') for k, name in enumerate([name0, name1])];\n",
    "    \n",
    "    plt.show()"
   ]
  },
  {
   "cell_type": "code",
   "execution_count": null,
   "id": "67842fb4",
   "metadata": {},
   "outputs": [],
   "source": [
    "match_matrix = -np.ones([len(image_names), len(image_names)])\n",
    "for pair in pairs:\n",
    "    name0, name1 = pair.split(\"/\")\n",
    "    idx0, idx1 = image_names.index(name0), image_names.index(name1)\n",
    "    m, sc = get_matches(matches, name0, name1)\n",
    "    match_matrix[idx0, idx1] = match_matrix[idx1, idx0] = m.shape[0]\n",
    "    \n",
    "total = (match_matrix * (match_matrix > 0)).sum(-1)\n",
    "\n",
    "# color by registered images green and unregistered images red\n",
    "\n",
    "colors = np.array([1, 0, 0])[np.newaxis, :].repeat(len(image_names), axis=0)\n",
    "for i, name in enumerate(image_names):\n",
    "    if name in models[0][\"images\"]:\n",
    "        colors[i] = np.array([0, 1, 0])\n",
    "    elif name in all_registered:\n",
    "        colors[i] = np.array([1, 1, 0])\n",
    "\n",
    "fig, ax = plt.subplots(figsize=(10, 6))\n",
    "ax = sns.barplot(x=list(range(len(image_names))), y=total, palette=colors)\n",
    "ax.set_xlabel('image index')\n",
    "ax.set_ylabel('number of matches')\n",
    "ax.set_title('total number of matches per image')"
   ]
  },
  {
   "cell_type": "code",
   "execution_count": null,
   "id": "aadf6380",
   "metadata": {},
   "outputs": [],
   "source": [
    "# 4 images with least amount of matches\n",
    "ksmallest = np.argsort(total)[:4]\n",
    "fig = plot_images([read_image(images / image_names[j]) for j in ksmallest], titles=[image_names[j] for j in ksmallest])\n",
    "[add_text(i, f'matches: {total[j]}, reg: {image_names[j] in models[0][\"images\"]}') for i, j in enumerate(ksmallest)];"
   ]
  },
  {
   "cell_type": "code",
   "execution_count": null,
   "id": "7cacf448",
   "metadata": {},
   "outputs": [],
   "source": [
    "# 4 images with least amount of matches\n",
    "ksmallest = np.argsort(total)[:4]\n",
    "fig = plot_images([read_image(images / image_names[j]) for j in ksmallest], titles=[image_names[j] for j in ksmallest])\n",
    "[add_text(i, f'matches: {total[j]}, reg: {image_names[j] in all_registered}') for i, j in enumerate(ksmallest)];"
   ]
  },
  {
   "cell_type": "code",
   "execution_count": null,
   "id": "cc3c5252",
   "metadata": {
    "scrolled": false
   },
   "outputs": [],
   "source": [
    "# print top-pair for each of above image\n",
    "for j in ksmallest:\n",
    "    name0 = image_names[j]\n",
    "    name1 = image_names[np.argmax(match_matrix[j])]\n",
    "    plot_images([read_image(images / name0), read_image(images / name1)])\n",
    "    kp0, kp1 = get_keypoints(features, name0), get_keypoints(features, name1)\n",
    "    m, sc = get_matches(matches, name0, name1)\n",
    "    plot_matches(kp0[m[:,0]], kp1[m[:,1]], a=0.1)\n",
    "    add_text(0, f'num matches: {m.shape[0]}, reg: {name0 in models[0][\"images\"]}')\n",
    "    add_text(0, name0, pos=(0.01, 0.05))\n",
    "    add_text(1, f'{name1}, reg: {name1 in models[0][\"images\"]}', pos=(0.01, 0.05))"
   ]
  },
  {
   "cell_type": "code",
   "execution_count": null,
   "metadata": {},
   "outputs": [],
   "source": [
    "name0 = \"IMG_20220127_165703.jpg\"\n",
    "name1 = \"IMG_20220127_170022.jpg\"\n",
    "\n",
    "plot_images([read_image(images / name0), read_image(images / name1)])\n",
    "\n",
    "kp0, kp1 = get_keypoints(features, name0), get_keypoints(features, name1)\n",
    "m, sc = get_matches(matches, name0, name1)\n",
    "plot_matches(kp0[m[:,0]], kp1[m[:,1]], a=0.1)"
   ]
  },
  {
   "cell_type": "code",
   "execution_count": null,
   "id": "103098f6",
   "metadata": {},
   "outputs": [],
   "source": [
    "# get unregeistered images with most matches\n",
    "kmost = np.argsort(total)[::-1]\n",
    "kmost = [k for k in kmost if image_names[k] not in models[0][\"images\"]]\n",
    "kmost = kmost[:4]\n",
    "fig = plot_images([read_image(images / image_names[j]) for j in kmost], titles=[image_names[j] for j in kmost])\n",
    "[add_text(i, f'matches: {total[j]}, reg: {image_names[j] in models[0][\"images\"]}') for i, j in enumerate(kmost)]"
   ]
  },
  {
   "cell_type": "code",
   "execution_count": null,
   "id": "941d2e67",
   "metadata": {},
   "outputs": [],
   "source": [
    "# get matches from unregeistered images to regeistered images\n",
    "unreg = np.array([name for name in image_names if name not in models[0][\"images\"]])\n",
    "\n",
    "match_counts_reg_unreg = np.zeros([len(models[0][\"images\"]), len(unreg)])\n",
    "\n",
    "for i, name0 in enumerate(models[0][\"images\"]):\n",
    "    for j, name1 in enumerate(unreg):\n",
    "        try:\n",
    "            m, sc = get_matches(matches, name0, name1)\n",
    "        except ValueError:\n",
    "            continue\n",
    "        match_counts_reg_unreg[i, j] = m.shape[0]"
   ]
  },
  {
   "cell_type": "code",
   "execution_count": null,
   "id": "3646d9fb",
   "metadata": {},
   "outputs": [],
   "source": [
    "# get unregistered image with most matches to registered images\n",
    "kmost = np.argsort(match_counts_reg_unreg.max(0))[::-1]\n",
    "\n",
    "for j in kmost:\n",
    "    name0 = unreg[j]\n",
    "    name1 = reg_images[np.argmax(match_counts_reg_unreg[:, j])]\n",
    "\n",
    "    if np.argmax(match_counts_reg_unreg[:, j]) == 0:\n",
    "        continue\n",
    "\n",
    "    plot_images([read_image(images / name0), read_image(images / name1)])\n",
    "    kp0, kp1 = get_keypoints(features, name0), get_keypoints(features, name1)\n",
    "    m, sc = get_matches(matches, name0, name1)\n",
    "    plot_matches(kp0[m[:,0]], kp1[m[:,1]])\n",
    "    add_text(0, f'num matches: {m.shape[0]}, reg: {name0 in models[0][\"images\"]}')\n",
    "    add_text(0, name0, pos=(0.01, 0.05))\n",
    "    add_text(1, f'{name1}, reg: {name1 in models[0][\"images\"]}', pos=(0.01, 0.05))"
   ]
  },
  {
   "cell_type": "code",
   "execution_count": null,
   "id": "034bdeec",
   "metadata": {},
   "outputs": [],
   "source": [
    "# plot all unreigstered images\n",
    "kunreg = np.where([name not in models[0][\"images\"] for name in image_names])[0]\n",
    "\n",
    "rows = min(4, len(kunreg))\n",
    "\n",
    "grid = (rows, len(kunreg) // rows + 1)\n",
    "\n",
    "fig, ax = plt.subplots(grid[0], grid[1], figsize=(grid[1] * 4, grid[0] * 4))\n",
    "\n",
    "ax = ax.flatten()\n",
    "\n",
    "for i, j in enumerate(kunreg):\n",
    "    ax[i].imshow(read_image(images / image_names[j]))\n",
    "    ax[i].set_title(f\"{image_names[j]}, matches: {total[j]}\")\n",
    "    ax[i].axis(\"off\")\n",
    "\n",
    "plt.suptitle(f\"unregistered images in {scene}: {len(kunreg)}\")\n",
    "plt.show()"
   ]
  },
  {
   "cell_type": "code",
   "execution_count": null,
   "id": "57f7e5ef",
   "metadata": {},
   "outputs": [],
   "source": [
    "# plot all unreigstered images (rotated)\n",
    "kunreg = np.where([name not in models[0][\"images\"] for name in image_names])[0]\n",
    "\n",
    "rows = min(4, len(kunreg))\n",
    "\n",
    "grid = (rows, len(kunreg) // rows + 1)\n",
    "\n",
    "fig, ax = plt.subplots(grid[0], grid[1], figsize=(grid[1] * 4, grid[0] * 4))\n",
    "\n",
    "ax = ax.flatten()\n",
    "\n",
    "rotated_images = scene_dir / \"images_rotated\"\n",
    "\n",
    "for i, j in enumerate(kunreg):\n",
    "\n",
    "    ax[i].imshow(read_image(rotated_images / image_names[j]))\n",
    "    ax[i].set_title(f\"{image_names[j]}, matches: {total[j]}\")\n",
    "    ax[i].axis(\"off\")\n",
    "\n",
    "plt.suptitle(f\"unregistered (rotated) images in {scene}: {len(kunreg)}\")\n",
    "plt.show()"
   ]
  },
  {
   "cell_type": "code",
   "execution_count": null,
   "id": "4413ea24",
   "metadata": {},
   "outputs": [],
   "source": [
    "for idx, data in models.items():\n",
    "    print(f\"Model{idx}: {data['model'].summary()}\\n\")"
   ]
  },
  {
   "cell_type": "code",
   "execution_count": null,
   "id": "89d8d77b",
   "metadata": {},
   "outputs": [],
   "source": [
    "for idx, data in models.items():\n",
    "    # if idx == 0:\n",
    "    #     continue\n",
    "\n",
    "    print(f\"Model{idx}: number of registered images: {len(data['images'])}\")\n",
    "    # plot registered images\n",
    "    reg = [read_image(images / name) for name in data[\"images\"]]\n",
    "    fig = plot_images(reg, titles=data[\"images\"])\n",
    "    [add_text(i, f'reg: {name in models[0][\"images\"]}') for i, name in enumerate(data[\"images\"])]\n",
    "    plt.show()"
   ]
  },
  {
   "cell_type": "code",
   "execution_count": null,
   "id": "c9a4f18a",
   "metadata": {},
   "outputs": [],
   "source": [
    "# plot unregistered images for each model\n",
    "for idx, data in models.items():\n",
    "    # print(f\"Model{idx}: number of unregistered images: {len(data['unregistered'])}\")\n",
    "    # plot registered images\n",
    "    unreg_names = [name for name in image_names if name not in data[\"images\"]]\n",
    "    unreg = [read_image(images / name) for name in image_names if name not in data[\"images\"]]\n",
    "    fig = plot_images(unreg, titles=unreg_names)\n",
    "    [add_text(i, f'reg: {name in models[0][\"images\"]}') for i, name in enumerate(unreg_names)]\n",
    "    plt.show()"
   ]
  },
  {
   "cell_type": "code",
   "execution_count": null,
   "id": "aa8ff090",
   "metadata": {},
   "outputs": [],
   "source": []
  }
 ],
 "metadata": {
  "kernelspec": {
   "display_name": "megadepth",
   "language": "python",
   "name": "python3"
  },
  "language_info": {
   "codemirror_mode": {
    "name": "ipython",
    "version": 3
   },
   "file_extension": ".py",
   "mimetype": "text/x-python",
   "name": "python",
   "nbconvert_exporter": "python",
   "pygments_lexer": "ipython3",
   "version": "3.9.16"
  }
 },
 "nbformat": 4,
 "nbformat_minor": 5
}
